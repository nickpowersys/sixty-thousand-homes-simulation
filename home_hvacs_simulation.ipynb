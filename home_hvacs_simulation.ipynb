{
 "cells": [
  {
   "cell_type": "markdown",
   "id": "9ecc21e3",
   "metadata": {},
   "source": [
    "## Ten hours of simulation across 60,000 residential HVAC cooling systems (1-second time steps)"
   ]
  },
  {
   "cell_type": "markdown",
   "id": "00f864ad",
   "metadata": {},
   "source": [
    "NumPy is used to randomly determine the thermal parameters of a set of 60,000 home air conditioners and homes.\n",
    "\n",
    "SymPy is used to vectorize functions that simulate the temperature changes within the homes, and the operating states based on thermostatic setpoint control.\n",
    "\n",
    "In the ten-hour scenario, setpoint control is simulated such that all of the air conditioners are subject to the same setpoint control signal, which is itself derived from a white noise process.\n",
    "\n",
    "The values used as input to the random initialization of the thermal parameters and the formulae for the functions originated in _Calloway, Tapping the energy storage potential in electric loads to deliver load following and regulation, with application to wind energy (2019)_."
   ]
  },
  {
   "cell_type": "markdown",
   "id": "83a69a29-3826-4578-a989-6333d54be98d",
   "metadata": {},
   "source": [
    "### Standard Library imports"
   ]
  },
  {
   "cell_type": "code",
   "execution_count": 1,
   "id": "d4677142-eb3b-4cff-b982-2e697046810b",
   "metadata": {},
   "outputs": [],
   "source": [
    "from decimal import Decimal"
   ]
  },
  {
   "cell_type": "markdown",
   "id": "ab3ea0c6-f4c5-494d-8d5a-b26ec69baf41",
   "metadata": {},
   "source": [
    "### Data/ML engineering and plotting packages"
   ]
  },
  {
   "cell_type": "code",
   "execution_count": 2,
   "id": "9dcd7c34-2b1f-40c7-9917-f0fdf9cbcf60",
   "metadata": {},
   "outputs": [],
   "source": [
    "import matplotlib\n",
    "matplotlib.use('Qt5Agg')\n",
    "import numpy as np\n",
    "import pandas as pd\n",
    "import seaborn as sns"
   ]
  },
  {
   "cell_type": "code",
   "execution_count": 3,
   "id": "7157e989-31cb-4c80-84fa-d515d11e5b8a",
   "metadata": {},
   "outputs": [],
   "source": [
    "%matplotlib inline"
   ]
  },
  {
   "cell_type": "markdown",
   "id": "125d4b1c-b923-42d0-a77d-51e967070255",
   "metadata": {},
   "source": [
    "### Modules for simulation and post-processing of simulation output"
   ]
  },
  {
   "cell_type": "code",
   "execution_count": 4,
   "id": "e70c4aa5-dbb2-4ba0-b21f-fce61d51a016",
   "metadata": {},
   "outputs": [],
   "source": [
    "from src.phys_sim import HVACSystemsSimulation"
   ]
  },
  {
   "cell_type": "code",
   "execution_count": 5,
   "id": "acb64cc9",
   "metadata": {},
   "outputs": [],
   "source": [
    "RNG_SEED = 411010100426840439797978946302925010200"
   ]
  },
  {
   "cell_type": "markdown",
   "id": "87205a46-7e72-4bd2-90f4-f17c5e3afc2f",
   "metadata": {},
   "source": [
    "### Simulation configuration"
   ]
  },
  {
   "cell_type": "code",
   "execution_count": 6,
   "id": "4bcfbe53-cb03-49f9-8336-dfd8e9486637",
   "metadata": {},
   "outputs": [],
   "source": [
    "secs_per_time_step = 1"
   ]
  },
  {
   "cell_type": "code",
   "execution_count": 7,
   "id": "74e12e77",
   "metadata": {},
   "outputs": [
    {
     "name": "stdout",
     "output_type": "stream",
     "text": [
      "Expression for a (thermal characteristics of thermal mass) in Eq. 1\n",
      "  -h  \n",
      " ─────\n",
      " cs⋅rs\n",
      "ℯ     \n",
      "\n"
     ]
    }
   ],
   "source": [
    "sim = HVACSystemsSimulation(RNG_SEED, secs_per_time_step)"
   ]
  },
  {
   "cell_type": "code",
   "execution_count": 8,
   "id": "7d075d38",
   "metadata": {},
   "outputs": [
    {
     "data": {
      "text/plain": [
       "{'rng': Generator(PCG64) at 0x11366DB60,\n",
       " 'callaway': <src.phys_sim.HVACSystemsSimulation.CallawayParams at 0x115564310>,\n",
       " 'train_seconds': 18000,\n",
       " 'test_seconds': 18000,\n",
       " 'std_r': 0.4,\n",
       " 'std_c': 2.0,\n",
       " 'std_energy_transfer': 2.8,\n",
       " 'thermostat_min_c': 0.0,\n",
       " 'thermostat_max_c': 40.0,\n",
       " 'thermostat_bits': 14,\n",
       " 'thermostat_precision': 2,\n",
       " 'cools': array([37.52006032, 40.3812898 , 26.62409546, ..., 27.95498583,\n",
       "        28.03525703, 15.80853794]),\n",
       " 'init_building_params': array([0.99997922, 0.99998866, 0.99998744, ..., 0.99998721, 0.99998942,\n",
       "        0.99998418]),\n",
       " 'sim_building_params': array([0.99997922, 0.99998866, 0.99998744, ..., 0.99998721, 0.99998942,\n",
       "        0.99998418])}"
      ]
     },
     "execution_count": 8,
     "metadata": {},
     "output_type": "execute_result"
    }
   ],
   "source": [
    "vars(sim)"
   ]
  },
  {
   "cell_type": "markdown",
   "id": "9d7939ee-226e-4c3b-a2d0-cecac95e5319",
   "metadata": {},
   "source": [
    "### Randomly determine thermal parameters and determine durations of each device's ON and OFF cycles at the current setpoint"
   ]
  },
  {
   "cell_type": "code",
   "execution_count": 9,
   "id": "d9a94317-4ac0-48b9-9bb4-00cf97a9d9de",
   "metadata": {},
   "outputs": [
    {
     "name": "stdout",
     "output_type": "stream",
     "text": [
      "Deterministic part of Eq. 1 assuming device is ON:\n",
      "a⋅θᵢ + (1 - a)⋅(-RPᵢ + θₐ)\n",
      "\n",
      "59998 devs had combined ON and OFF cycles under 24 hours\n"
     ]
    }
   ],
   "source": [
    "init_output = sim.init_simulation()"
   ]
  },
  {
   "cell_type": "markdown",
   "id": "030a1f6b-611d-4e60-b499-3699d36cba1a",
   "metadata": {},
   "source": [
    "### Simulate ten hours in 1-second time steps"
   ]
  },
  {
   "cell_type": "code",
   "execution_count": 10,
   "id": "51a775dc-225f-479e-8ed2-8b799c6cd0e0",
   "metadata": {},
   "outputs": [
    {
     "name": "stdout",
     "output_type": "stream",
     "text": [
      "Simulating total time (training and test) of 10.0 hours\n",
      "Seconds per time step: 1\n",
      "sim_time_steps: 36000\n"
     ]
    }
   ],
   "source": [
    "train_test_output = sim.simulate_for_train_and_test(**init_output)"
   ]
  },
  {
   "cell_type": "markdown",
   "id": "d5e2c1d4-4f26-4118-8190-1b856e83e51c",
   "metadata": {},
   "source": [
    "#### Get output of simulatiuon"
   ]
  },
  {
   "cell_type": "code",
   "execution_count": 11,
   "id": "bba6cab9-093c-4da5-8287-c535a1feaa8e",
   "metadata": {},
   "outputs": [],
   "source": [
    "_, total_on_at_t, _ = train_test_output\n",
    "minutes_elapsed = np.divide(np.arange(total_on_at_t.shape[0])[::60], 60).astype('float').flatten()\n",
    "total_hvacs_on = total_on_at_t[::60].flatten()\n",
    "total_hvacs_on_df = pd.DataFrame({'Minutes': minutes_elapsed,\n",
    "                                  'Total HVACs ON': total_hvacs_on})"
   ]
  },
  {
   "cell_type": "code",
   "execution_count": 12,
   "id": "f9881be7",
   "metadata": {},
   "outputs": [
    {
     "data": {
      "text/plain": [
       "<Axes: title={'center': 'Total HVAC Systems ON'}, xlabel='Minutes'>"
      ]
     },
     "execution_count": 12,
     "metadata": {},
     "output_type": "execute_result"
    },
    {
     "data": {
      "image/png": "[encoded data removed]",
      "text/plain": [
       "<Figure size 1200x400 with 1 Axes>"
      ]
     },
     "metadata": {},
     "output_type": "display_data"
    }
   ],
   "source": [
    "total_hvacs_on_df.plot(title='Total HVAC Systems ON',\n",
    "                       x='Minutes',\n",
    "                       y='Total HVACs ON',\n",
    "                       figsize=(12,4),\n",
    "                       ylim=(0,35000))"
   ]
  },
  {
   "cell_type": "code",
   "execution_count": null,
   "id": "70859eaa-6d4f-4cd7-97dc-1b4bd76ce955",
   "metadata": {},
   "outputs": [],
   "source": []
  }
 ],
 "metadata": {
  "kernelspec": {
   "display_name": ".venv",
   "language": "python",
   "name": "python3"
  },
  "language_info": {
   "codemirror_mode": {
    "name": "ipython",
    "version": 3
   },
   "file_extension": ".py",
   "mimetype": "text/x-python",
   "name": "python",
   "nbconvert_exporter": "python",
   "pygments_lexer": "ipython3",
   "version": "3.11.10"
  }
 },
 "nbformat": 4,
 "nbformat_minor": 5
}
